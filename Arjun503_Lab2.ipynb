{
  "nbformat": 4,
  "nbformat_minor": 0,
  "metadata": {
    "colab": {
      "provenance": []
    },
    "kernelspec": {
      "name": "python3",
      "display_name": "Python 3"
    },
    "language_info": {
      "name": "python"
    }
  },
  "cells": [
    {
      "cell_type": "code",
      "execution_count": 1,
      "metadata": {
        "colab": {
          "base_uri": "https://localhost:8080/"
        },
        "id": "4k4_OVfDryuq",
        "outputId": "ef5a663a-982d-4123-eff0-6b57460261d3"
      },
      "outputs": [
        {
          "output_type": "stream",
          "name": "stdout",
          "text": [
            "Collecting qiskit\n",
            "  Downloading qiskit-1.2.4-cp38-abi3-manylinux_2_17_x86_64.manylinux2014_x86_64.whl.metadata (12 kB)\n",
            "Collecting rustworkx>=0.15.0 (from qiskit)\n",
            "  Downloading rustworkx-0.15.1-cp38-abi3-manylinux_2_17_x86_64.manylinux2014_x86_64.whl.metadata (9.9 kB)\n",
            "Requirement already satisfied: numpy<3,>=1.17 in /usr/local/lib/python3.10/dist-packages (from qiskit) (1.26.4)\n",
            "Requirement already satisfied: scipy>=1.5 in /usr/local/lib/python3.10/dist-packages (from qiskit) (1.13.1)\n",
            "Requirement already satisfied: sympy>=1.3 in /usr/local/lib/python3.10/dist-packages (from qiskit) (1.13.3)\n",
            "Collecting dill>=0.3 (from qiskit)\n",
            "  Downloading dill-0.3.9-py3-none-any.whl.metadata (10 kB)\n",
            "Requirement already satisfied: python-dateutil>=2.8.0 in /usr/local/lib/python3.10/dist-packages (from qiskit) (2.8.2)\n",
            "Collecting stevedore>=3.0.0 (from qiskit)\n",
            "  Downloading stevedore-5.3.0-py3-none-any.whl.metadata (2.3 kB)\n",
            "Requirement already satisfied: typing-extensions in /usr/local/lib/python3.10/dist-packages (from qiskit) (4.12.2)\n",
            "Collecting symengine<0.14,>=0.11 (from qiskit)\n",
            "  Downloading symengine-0.13.0-cp310-cp310-manylinux_2_17_x86_64.manylinux2014_x86_64.whl.metadata (1.2 kB)\n",
            "Requirement already satisfied: six>=1.5 in /usr/local/lib/python3.10/dist-packages (from python-dateutil>=2.8.0->qiskit) (1.16.0)\n",
            "Collecting pbr>=2.0.0 (from stevedore>=3.0.0->qiskit)\n",
            "  Downloading pbr-6.1.0-py2.py3-none-any.whl.metadata (3.4 kB)\n",
            "Requirement already satisfied: mpmath<1.4,>=1.1.0 in /usr/local/lib/python3.10/dist-packages (from sympy>=1.3->qiskit) (1.3.0)\n",
            "Downloading qiskit-1.2.4-cp38-abi3-manylinux_2_17_x86_64.manylinux2014_x86_64.whl (4.8 MB)\n",
            "\u001b[2K   \u001b[90m━━━━━━━━━━━━━━━━━━━━━━━━━━━━━━━━━━━━━━━━\u001b[0m \u001b[32m4.8/4.8 MB\u001b[0m \u001b[31m28.5 MB/s\u001b[0m eta \u001b[36m0:00:00\u001b[0m\n",
            "\u001b[?25hDownloading dill-0.3.9-py3-none-any.whl (119 kB)\n",
            "\u001b[2K   \u001b[90m━━━━━━━━━━━━━━━━━━━━━━━━━━━━━━━━━━━━━━━━\u001b[0m \u001b[32m119.4/119.4 kB\u001b[0m \u001b[31m7.4 MB/s\u001b[0m eta \u001b[36m0:00:00\u001b[0m\n",
            "\u001b[?25hDownloading rustworkx-0.15.1-cp38-abi3-manylinux_2_17_x86_64.manylinux2014_x86_64.whl (2.0 MB)\n",
            "\u001b[2K   \u001b[90m━━━━━━━━━━━━━━━━━━━━━━━━━━━━━━━━━━━━━━━━\u001b[0m \u001b[32m2.0/2.0 MB\u001b[0m \u001b[31m43.4 MB/s\u001b[0m eta \u001b[36m0:00:00\u001b[0m\n",
            "\u001b[?25hDownloading stevedore-5.3.0-py3-none-any.whl (49 kB)\n",
            "\u001b[2K   \u001b[90m━━━━━━━━━━━━━━━━━━━━━━━━━━━━━━━━━━━━━━━━\u001b[0m \u001b[32m49.7/49.7 kB\u001b[0m \u001b[31m2.3 MB/s\u001b[0m eta \u001b[36m0:00:00\u001b[0m\n",
            "\u001b[?25hDownloading symengine-0.13.0-cp310-cp310-manylinux_2_17_x86_64.manylinux2014_x86_64.whl (49.7 MB)\n",
            "\u001b[2K   \u001b[90m━━━━━━━━━━━━━━━━━━━━━━━━━━━━━━━━━━━━━━━━\u001b[0m \u001b[32m49.7/49.7 MB\u001b[0m \u001b[31m11.7 MB/s\u001b[0m eta \u001b[36m0:00:00\u001b[0m\n",
            "\u001b[?25hDownloading pbr-6.1.0-py2.py3-none-any.whl (108 kB)\n",
            "\u001b[2K   \u001b[90m━━━━━━━━━━━━━━━━━━━━━━━━━━━━━━━━━━━━━━━━\u001b[0m \u001b[32m108.5/108.5 kB\u001b[0m \u001b[31m4.0 MB/s\u001b[0m eta \u001b[36m0:00:00\u001b[0m\n",
            "\u001b[?25hInstalling collected packages: symengine, rustworkx, pbr, dill, stevedore, qiskit\n",
            "Successfully installed dill-0.3.9 pbr-6.1.0 qiskit-1.2.4 rustworkx-0.15.1 stevedore-5.3.0 symengine-0.13.0\n"
          ]
        }
      ],
      "source": [
        "!pip install qiskit"
      ]
    },
    {
      "cell_type": "code",
      "source": [
        "#performing operations with operators and state vector\n",
        "import qiskit\n",
        "from qiskit.quantum_info import Statevector\n",
        "from qiskit.quantum_info import Operator\n",
        "import numpy as np\n",
        "import math\n",
        "import random"
      ],
      "metadata": {
        "id": "hdRhABifr1V2"
      },
      "execution_count": 2,
      "outputs": []
    },
    {
      "cell_type": "code",
      "source": [
        "#performing operation on X,Y,Z,H,S,T\n",
        "X=Operator(np.array([[0,1],[1,0]])) # Pauli-X (NOT) gate\n",
        "Y=Operator(np.array([[0,-1j],[1j,0]]))#PAULI-Y GATE\n",
        "Z=Operator(np.array([[1,0],[0,-1]])) # Pauli-Z gate\n",
        "H=Operator(np.array([[1/math.sqrt(2),1/math.sqrt(2)],[1/math.sqrt(2),-1/math.sqrt(2)]])) #hadamard operator\n",
        "S=Operator(np.array([[1,0],[0,1.0j]]))\n",
        "T=Operator(np.array([[1,0],[0,(1+1.0j)/math.sqrt(2)]]))#pi/8 operator\n",
        "\n",
        "state =Statevector([1,0])\n",
        "print(\"Initial state |0⟩:\", state)\n",
        "print(\"X_operator:\",X)\n",
        "print(\"Y_operator:\",Y)\n",
        "print(\"Z_operator:\",Z)\n",
        "print(\"H_operator:\",H)\n",
        "print(\"S_operator:\",S)\n",
        "print(\"T_operator:\",T)"
      ],
      "metadata": {
        "colab": {
          "base_uri": "https://localhost:8080/"
        },
        "id": "5aZv_tQpsGGO",
        "outputId": "545bb1f0-7530-411e-a50e-174dff36e5f9"
      },
      "execution_count": 3,
      "outputs": [
        {
          "output_type": "stream",
          "name": "stdout",
          "text": [
            "Initial state |0⟩: Statevector([1.+0.j, 0.+0.j],\n",
            "            dims=(2,))\n",
            "X_operator: Operator([[0.+0.j, 1.+0.j],\n",
            "          [1.+0.j, 0.+0.j]],\n",
            "         input_dims=(2,), output_dims=(2,))\n",
            "Y_operator: Operator([[ 0.+0.j, -0.-1.j],\n",
            "          [ 0.+1.j,  0.+0.j]],\n",
            "         input_dims=(2,), output_dims=(2,))\n",
            "Z_operator: Operator([[ 1.+0.j,  0.+0.j],\n",
            "          [ 0.+0.j, -1.+0.j]],\n",
            "         input_dims=(2,), output_dims=(2,))\n",
            "H_operator: Operator([[ 0.70710678+0.j,  0.70710678+0.j],\n",
            "          [ 0.70710678+0.j, -0.70710678+0.j]],\n",
            "         input_dims=(2,), output_dims=(2,))\n",
            "S_operator: Operator([[1.+0.j, 0.+0.j],\n",
            "          [0.+0.j, 0.+1.j]],\n",
            "         input_dims=(2,), output_dims=(2,))\n",
            "T_operator: Operator([[1.        +0.j        , 0.        +0.j        ],\n",
            "          [0.        +0.j        , 0.70710678+0.70710678j]],\n",
            "         input_dims=(2,), output_dims=(2,))\n"
          ]
        }
      ]
    },
    {
      "cell_type": "code",
      "source": [
        "#performing operations with operators by evolving\n",
        "state= state.evolve(X)\n",
        "print(\"\\nAfter X gate:\", state)\n",
        "state= state.evolve(Y)\n",
        "print(\"\\nAfter Y gate:\", state)\n",
        "state= state.evolve(Z)\n",
        "print(\"\\nAfter Z gate:\", state)\n",
        "state= state.evolve(H)\n",
        "print(\"\\nAfter H gate:\", state)\n",
        "state= state.evolve(H)\n",
        "print(\"\\nAfter S gate:\", state)\n",
        "state= state.evolve(S)\n",
        "print(\"\\nAfter T gate:\", state)\n",
        "state= state.evolve(T)"
      ],
      "metadata": {
        "colab": {
          "base_uri": "https://localhost:8080/"
        },
        "id": "OQhDG1pksJG3",
        "outputId": "2a61a4fe-f74a-4477-ae6f-46536264c1f7"
      },
      "execution_count": 4,
      "outputs": [
        {
          "output_type": "stream",
          "name": "stdout",
          "text": [
            "\n",
            "After X gate: Statevector([0.+0.j, 1.+0.j],\n",
            "            dims=(2,))\n",
            "\n",
            "After Y gate: Statevector([0.-1.j, 0.+0.j],\n",
            "            dims=(2,))\n",
            "\n",
            "After Z gate: Statevector([0.-1.j, 0.+0.j],\n",
            "            dims=(2,))\n",
            "\n",
            "After H gate: Statevector([0.-0.70710678j, 0.-0.70710678j],\n",
            "            dims=(2,))\n",
            "\n",
            "After S gate: Statevector([0.-1.j, 0.+0.j],\n",
            "            dims=(2,))\n",
            "\n",
            "After T gate: Statevector([0.-1.j, 0.+0.j],\n",
            "            dims=(2,))\n"
          ]
        }
      ]
    },
    {
      "cell_type": "code",
      "source": [
        "display(state.draw('text'))"
      ],
      "metadata": {
        "colab": {
          "base_uri": "https://localhost:8080/",
          "height": 34
        },
        "id": "fR9f2gzzsMD8",
        "outputId": "e7c12614-7edf-457d-ddcd-d16568c8decc"
      },
      "execution_count": 5,
      "outputs": [
        {
          "output_type": "display_data",
          "data": {
            "text/plain": [
              "[0.-1.j,0.+0.j]"
            ]
          },
          "metadata": {}
        }
      ]
    },
    {
      "cell_type": "code",
      "source": [
        "!pip install pylatexenc"
      ],
      "metadata": {
        "colab": {
          "base_uri": "https://localhost:8080/"
        },
        "id": "KdXCGtlBsOO5",
        "outputId": "5ac490e1-9733-4921-9429-3ceebc4c05c3"
      },
      "execution_count": 6,
      "outputs": [
        {
          "output_type": "stream",
          "name": "stdout",
          "text": [
            "Collecting pylatexenc\n",
            "  Downloading pylatexenc-2.10.tar.gz (162 kB)\n",
            "\u001b[?25l     \u001b[90m━━━━━━━━━━━━━━━━━━━━━━━━━━━━━━━━━━━━━━━━\u001b[0m \u001b[32m0.0/162.6 kB\u001b[0m \u001b[31m?\u001b[0m eta \u001b[36m-:--:--\u001b[0m\r\u001b[2K     \u001b[91m━━━━━━━━━━━━━━━━━━━━━━━━━━━━━━━━━━━━━\u001b[0m\u001b[91m╸\u001b[0m\u001b[90m━━\u001b[0m \u001b[32m153.6/162.6 kB\u001b[0m \u001b[31m4.3 MB/s\u001b[0m eta \u001b[36m0:00:01\u001b[0m\r\u001b[2K     \u001b[90m━━━━━━━━━━━━━━━━━━━━━━━━━━━━━━━━━━━━━━━━\u001b[0m \u001b[32m162.6/162.6 kB\u001b[0m \u001b[31m3.2 MB/s\u001b[0m eta \u001b[36m0:00:00\u001b[0m\n",
            "\u001b[?25h  Preparing metadata (setup.py) ... \u001b[?25l\u001b[?25hdone\n",
            "Building wheels for collected packages: pylatexenc\n",
            "  Building wheel for pylatexenc (setup.py) ... \u001b[?25l\u001b[?25hdone\n",
            "  Created wheel for pylatexenc: filename=pylatexenc-2.10-py3-none-any.whl size=136817 sha256=a96ed04d07c9f5052f74de8bf89e5d49b3861ed3e953fdbe3b8bc1b854046364\n",
            "  Stored in directory: /root/.cache/pip/wheels/d3/31/8b/e09b0386afd80cfc556c00408c9aeea5c35c4d484a9c762fd5\n",
            "Successfully built pylatexenc\n",
            "Installing collected packages: pylatexenc\n",
            "Successfully installed pylatexenc-2.10\n"
          ]
        }
      ]
    },
    {
      "cell_type": "code",
      "source": [
        "#Draw a simple circuit for these operation.\n",
        "from qiskit import QuantumCircuit\n",
        "qc = QuantumCircuit(1)\n",
        "qc.x(0)\n",
        "qc.y(0)\n",
        "qc.z(0)\n",
        "qc.h(0)\n",
        "qc.s(0)\n",
        "qc.t(0)\n",
        "\n",
        "\n",
        "display(qc.draw(output=\"mpl\"))"
      ],
      "metadata": {
        "colab": {
          "base_uri": "https://localhost:8080/",
          "height": 127
        },
        "id": "zQj4tFl5sQ-n",
        "outputId": "917bf24e-3c54-4a95-d184-1c257de29153"
      },
      "execution_count": 7,
      "outputs": [
        {
          "output_type": "display_data",
          "data": {
            "text/plain": [
              "<Figure size 603.508x117.056 with 1 Axes>"
            ],
            "image/png": "[encoded data removed]"
          },
          "metadata": {}
        }
      ]
    },
    {
      "cell_type": "code",
      "source": [
        "ket0=Statevector([1,0])\n",
        "ket1=Statevector([0,1])\n",
        "\n",
        "state=ket0.evolve(qc)\n",
        "display(state.draw('text'))"
      ],
      "metadata": {
        "colab": {
          "base_uri": "https://localhost:8080/",
          "height": 34
        },
        "id": "oDPyzztIsTwc",
        "outputId": "295f5830-c2f7-4246-ee44-0e6ad036cc38"
      },
      "execution_count": 8,
      "outputs": [
        {
          "output_type": "display_data",
          "data": {
            "text/plain": [
              "[0. -0.70710678j,0.5+0.5j       ]"
            ]
          },
          "metadata": {}
        }
      ]
    },
    {
      "cell_type": "code",
      "source": [
        "state = ket1.evolve(qc)\n",
        "display(state.draw('text'))"
      ],
      "metadata": {
        "colab": {
          "base_uri": "https://localhost:8080/",
          "height": 34
        },
        "id": "JE_tRX_NsXYb",
        "outputId": "c8311f9a-72f2-4919-813c-a5a3812af8d8"
      },
      "execution_count": 9,
      "outputs": [
        {
          "output_type": "display_data",
          "data": {
            "text/plain": [
              "[ 0. -0.70710678j,-0.5-0.5j       ]"
            ]
          },
          "metadata": {}
        }
      ]
    },
    {
      "cell_type": "code",
      "source": [
        "#simulating the measurements\n",
        "qc.measure_all()\n",
        "display(qc.draw(output=\"mpl\"))"
      ],
      "metadata": {
        "colab": {
          "base_uri": "https://localhost:8080/",
          "height": 191
        },
        "id": "N25acUH6sYby",
        "outputId": "c7823874-2441-46bd-980e-6881ab0fc01f"
      },
      "execution_count": 10,
      "outputs": [
        {
          "output_type": "display_data",
          "data": {
            "text/plain": [
              "<Figure size 831.22x200.667 with 1 Axes>"
            ],
            "image/png": "[encoded data removed]"
          },
          "metadata": {}
        }
      ]
    },
    {
      "cell_type": "code",
      "source": [
        "stat_state=state.sample_counts(10000)\n",
        "print(stat_state)"
      ],
      "metadata": {
        "colab": {
          "base_uri": "https://localhost:8080/"
        },
        "id": "4oEhGAvpsbrm",
        "outputId": "f0dc60d8-e942-4bbb-eb2f-fd0b271c738b"
      },
      "execution_count": 11,
      "outputs": [
        {
          "output_type": "stream",
          "name": "stdout",
          "text": [
            "{'0': 4952, '1': 5048}\n"
          ]
        }
      ]
    },
    {
      "cell_type": "code",
      "source": [
        "#plotting the states of QUBITS\n",
        "from qiskit.visualization import plot_histogram\n",
        "plot_histogram(stat_state)"
      ],
      "metadata": {
        "colab": {
          "base_uri": "https://localhost:8080/",
          "height": 429
        },
        "id": "NRvGoW6Rsd86",
        "outputId": "9df42661-adfd-4de7-a322-29c4f7a0bbfe"
      },
      "execution_count": 12,
      "outputs": [
        {
          "output_type": "execute_result",
          "data": {
            "text/plain": [
              "<Figure size 640x480 with 1 Axes>"
            ],
            "image/png": "[encoded data removed]"
          },
          "metadata": {},
          "execution_count": 12
        }
      ]
    },
    {
      "cell_type": "code",
      "source": [
        "#Proof that R is square root of NOT  operation. where R is a Hadamard operation, followed by the S operation, followed by another Hadamard operation.\n",
        "#r^2=X\n",
        "R=H@S@H\n",
        "print(\"R_operator:\",R)"
      ],
      "metadata": {
        "colab": {
          "base_uri": "https://localhost:8080/"
        },
        "id": "WZNVxB_BsgmS",
        "outputId": "98f440fc-cb6d-4bc1-d06e-cc4fc5eff911"
      },
      "execution_count": 13,
      "outputs": [
        {
          "output_type": "stream",
          "name": "stdout",
          "text": [
            "R_operator: Operator([[0.5+0.5j, 0.5-0.5j],\n",
            "          [0.5-0.5j, 0.5+0.5j]],\n",
            "         input_dims=(2,), output_dims=(2,))\n"
          ]
        }
      ]
    },
    {
      "cell_type": "code",
      "source": [
        "X=np.array([[0,1],[1,0]])\n",
        "H=np.array([[1/math.sqrt(2),1/math.sqrt(2)],[1/math.sqrt(2),-1/math.sqrt(2)]])\n",
        "S=np.array([[1,0],[0,1.0j]])\n",
        "\n",
        "#calculate H*S\n",
        "R=np.dot(np.dot(H,S),H)\n",
        "print(\"Matrix for R=H*S*H:\")\n",
        "print(R)\n",
        "\n",
        "R_squared=np.dot(R,R)\n",
        "print(\"\\nMatrix for R^2:\")\n",
        "print(R_squared)\n",
        "\n",
        "# Check if  R^2 equals NOT GATE\n",
        "if np.allclose(R_squared, X):\n",
        "    print(\"\\nProof: R^2 equals NOT GATE\")\n",
        "else:\n",
        "    print(\"\\nProof: R^2 does not equal NOT GATE\")"
      ],
      "metadata": {
        "colab": {
          "base_uri": "https://localhost:8080/"
        },
        "id": "a074UUu4surC",
        "outputId": "ca7ad274-074a-4590-938e-c3bc9e5062f3"
      },
      "execution_count": 14,
      "outputs": [
        {
          "output_type": "stream",
          "name": "stdout",
          "text": [
            "Matrix for R=H*S*H:\n",
            "[[0.5+0.5j 0.5-0.5j]\n",
            " [0.5-0.5j 0.5+0.5j]]\n",
            "\n",
            "Matrix for R^2:\n",
            "[[0.-2.46519033e-32j 1.+0.00000000e+00j]\n",
            " [1.+0.00000000e+00j 0.+2.46519033e-32j]]\n",
            "\n",
            "Proof: R^2 equals NOT GATE\n"
          ]
        }
      ]
    }
  ]
}