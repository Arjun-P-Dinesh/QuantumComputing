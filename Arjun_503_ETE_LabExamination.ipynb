{
 "cells": [
  {
   "cell_type": "markdown",
   "metadata": {},
   "source": [
    "## ETE-1\n",
    "### Quantum Computing\n",
    "\n",
    "Arjun P Dinesh <br>\n",
    "2348506"
   ]
  },
  {
   "cell_type": "code",
   "execution_count": 1,
   "metadata": {},
   "outputs": [
    {
     "name": "stdout",
     "output_type": "stream",
     "text": [
      "Requirement already satisfied: qiskit in ./.venv/lib/python3.12/site-packages (1.2.4)\n",
      "Requirement already satisfied: qiskit-aer in ./.venv/lib/python3.12/site-packages (0.15.1)\n",
      "Requirement already satisfied: rustworkx>=0.15.0 in ./.venv/lib/python3.12/site-packages (from qiskit) (0.15.1)\n",
      "Requirement already satisfied: numpy<3,>=1.17 in ./.venv/lib/python3.12/site-packages (from qiskit) (1.26.4)\n",
      "Requirement already satisfied: scipy>=1.5 in ./.venv/lib/python3.12/site-packages (from qiskit) (1.14.1)\n",
      "Requirement already satisfied: sympy>=1.3 in ./.venv/lib/python3.12/site-packages (from qiskit) (1.13.3)\n",
      "Requirement already satisfied: dill>=0.3 in ./.venv/lib/python3.12/site-packages (from qiskit) (0.3.9)\n",
      "Requirement already satisfied: python-dateutil>=2.8.0 in ./.venv/lib/python3.12/site-packages (from qiskit) (2.9.0.post0)\n",
      "Requirement already satisfied: stevedore>=3.0.0 in ./.venv/lib/python3.12/site-packages (from qiskit) (5.3.0)\n",
      "Requirement already satisfied: typing-extensions in ./.venv/lib/python3.12/site-packages (from qiskit) (4.12.2)\n",
      "Requirement already satisfied: symengine<0.14,>=0.11 in ./.venv/lib/python3.12/site-packages (from qiskit) (0.13.0)\n",
      "Requirement already satisfied: psutil>=5 in ./.venv/lib/python3.12/site-packages (from qiskit-aer) (6.1.0)\n",
      "Requirement already satisfied: six>=1.5 in ./.venv/lib/python3.12/site-packages (from python-dateutil>=2.8.0->qiskit) (1.16.0)\n",
      "Requirement already satisfied: pbr>=2.0.0 in ./.venv/lib/python3.12/site-packages (from stevedore>=3.0.0->qiskit) (6.1.0)\n",
      "Requirement already satisfied: mpmath<1.4,>=1.1.0 in ./.venv/lib/python3.12/site-packages (from sympy>=1.3->qiskit) (1.3.0)\n",
      "Note: you may need to restart the kernel to use updated packages.\n"
     ]
    }
   ],
   "source": [
    "pip install qiskit qiskit-aer"
   ]
  },
  {
   "cell_type": "code",
   "execution_count": 18,
   "metadata": {},
   "outputs": [],
   "source": [
    "from qiskit import QuantumCircuit, QuantumRegister,ClassicalRegister\n",
    "from qiskit.primitives import Sampler\n",
    "from qiskit.visualization import plot_histogram\n",
    "import matplotlib.pyplot as plt\n",
    "### Designing the Quantum Circuit\n",
    "from qiskit import QuantumCircuit\n",
    "from qiskit.primitives import Sampler\n",
    "from qiskit.visualization import plot_histogram\n",
    "import matplotlib.pyplot as plt"
   ]
  },
  {
   "cell_type": "markdown",
   "metadata": {},
   "source": [
    "## Question1"
   ]
  },
  {
   "cell_type": "code",
   "execution_count": 32,
   "metadata": {},
   "outputs": [],
   "source": [
    "# Designing the Quantum Circuit\n",
    "qc = QuantumCircuit(3,3)  # 3 qubits and 3 classical bits"
   ]
  },
  {
   "cell_type": "code",
   "execution_count": 33,
   "metadata": {},
   "outputs": [
    {
     "data": {
      "text/plain": [
       "<qiskit.circuit.instructionset.InstructionSet at 0x716ecdfa5990>"
      ]
     },
     "execution_count": 33,
     "metadata": {},
     "output_type": "execute_result"
    }
   ],
   "source": [
    "qc.h(0)      # Apply Hadamard gate to qubit 0\n",
    "qc.cx(0, 2)  # Apply CNOT gate with control qubit 0 and target qubit 2"
   ]
  },
  {
   "cell_type": "code",
   "execution_count": 34,
   "metadata": {},
   "outputs": [
    {
     "data": {
      "image/png": "[encoded data removed]",
      "text/plain": [
       "<Figure size 287.496x367.889 with 1 Axes>"
      ]
     },
     "execution_count": 34,
     "metadata": {},
     "output_type": "execute_result"
    }
   ],
   "source": [
    "qc.draw('mpl')"
   ]
  },
  {
   "cell_type": "code",
   "execution_count": 35,
   "metadata": {},
   "outputs": [
    {
     "name": "stdout",
     "output_type": "stream",
     "text": [
      "     ┌───┐     \n",
      "q_0: ┤ H ├──■──\n",
      "     └───┘  │  \n",
      "q_1: ───────┼──\n",
      "          ┌─┴─┐\n",
      "q_2: ─────┤ X ├\n",
      "          └───┘\n",
      "c: 3/══════════\n",
      "               \n"
     ]
    }
   ],
   "source": [
    "print(qc.draw(output='text'))"
   ]
  },
  {
   "cell_type": "code",
   "execution_count": 36,
   "metadata": {},
   "outputs": [
    {
     "data": {
      "text/plain": [
       "<qiskit.circuit.instructionset.InstructionSet at 0x716ecdf97fa0>"
      ]
     },
     "execution_count": 36,
     "metadata": {},
     "output_type": "execute_result"
    }
   ],
   "source": [
    "### Input/Output measure\n",
    "# Add measurement instructions to measure the qubits\n",
    "qc.measure([0, 1, 2], [0, 1, 2])  # Measure qubits 0, 1, and 2 into classical bits 0, 1, and "
   ]
  },
  {
   "cell_type": "code",
   "execution_count": 37,
   "metadata": {},
   "outputs": [
    {
     "name": "stderr",
     "output_type": "stream",
     "text": [
      "/tmp/ipykernel_25558/945145959.py:2: DeprecationWarning: The class ``qiskit.primitives.sampler.Sampler`` is deprecated as of qiskit 1.2. It will be removed no earlier than 3 months after the release date. All implementations of the `BaseSamplerV1` interface have been deprecated in favor of their V2 counterparts. The V2 alternative for the `Sampler` class is `StatevectorSampler`.\n",
      "  results = Sampler().run(qc).result()\n"
     ]
    }
   ],
   "source": [
    "# Output for different combinations of input\n",
    "results = Sampler().run(qc).result()\n",
    "statistics = results.quasi_dists[0].binary_probabilities()"
   ]
  },
  {
   "cell_type": "code",
   "execution_count": 38,
   "metadata": {},
   "outputs": [
    {
     "data": {
      "image/png": "[encoded data removed]",
      "text/plain": [
       "<Figure size 800x400 with 1 Axes>"
      ]
     },
     "metadata": {},
     "output_type": "display_data"
    }
   ],
   "source": [
    "# Plot the histogram of results\n",
    "plt.figure(figsize=(8, 4))\n",
    "plt.title(\"Quantum Circuit Measurement Results\")\n",
    "plt.bar(statistics.keys(), statistics.values())\n",
    "plt.xlabel(\"Measurement Outcomes\")\n",
    "plt.ylabel(\"Probability\")\n",
    "plt.show()"
   ]
  },
  {
   "cell_type": "markdown",
   "metadata": {},
   "source": [
    "### Theory and documentation:<br>\n",
    "##### Hadamard gate\n",
    "<p>The Hadamard gate is used to create superposition. It takes a qubit from the state ∣0⟩∣0⟩ or ∣1⟩∣1⟩ to a superposition of both states.</p>\n",
    "\n",
    "##### CNOT Gate\n",
    "<p>CNOT gate is applied with qubit q0q0​ as the control qubit and qubit q2q2​ as the target qubit. The CNOT gate is a two-qubit gate that flips the target qubit if and only if the control qubit is in the state ∣1⟩∣1⟩</p><br>\n",
    "<b> then performing a measurement on all three qubits, which collapses the quantum states of the qubits into classical binary outcomes, which can be observed and analyzed.\n",
    "</b>\n",
    "<br>\n",
    "\n",
    "##### Conclusion:\n",
    "<p>In the classical world, measuring a qubit always collapses it into one of two possible states: ∣0⟩∣0⟩ or ∣1⟩∣1⟩. In this case, the quantum measurement collapses the superposition into one of the two possible outcomes (either ∣000⟩∣000⟩ or ∣101⟩∣101⟩) with probabilities of 50% for each. This is visually represented by the histogram plot.<p>\n"
   ]
  },
  {
   "cell_type": "markdown",
   "metadata": {},
   "source": [
    "## Question2"
   ]
  },
  {
   "cell_type": "code",
   "execution_count": 39,
   "metadata": {},
   "outputs": [],
   "source": []
  }
 ],
 "metadata": {
  "kernelspec": {
   "display_name": ".venv",
   "language": "python",
   "name": "python3"
  },
  "language_info": {
   "codemirror_mode": {
    "name": "ipython",
    "version": 3
   },
   "file_extension": ".py",
   "mimetype": "text/x-python",
   "name": "python",
   "nbconvert_exporter": "python",
   "pygments_lexer": "ipython3",
   "version": "3.12.1"
  }
 },
 "nbformat": 4,
 "nbformat_minor": 2
}
